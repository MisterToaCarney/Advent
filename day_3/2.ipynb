{
 "cells": [
  {
   "cell_type": "code",
   "execution_count": 23,
   "metadata": {},
   "outputs": [],
   "source": [
    "file = File.open(\"test.txt\")\n",
    "lines = file.readlines\n",
    "file.close"
   ]
  },
  {
   "cell_type": "code",
   "execution_count": 24,
   "metadata": {},
   "outputs": [
    {
     "data": {
      "text/plain": [
       "[[\"vJrwpWtwJgWrhcsFMMfFFhFp\\n\", \"jqHRNqRjqzjGDLGLrsFMfFZSrLrFZsSL\\n\", \"PmmdzqPrVvPwwTWBwg\\n\"], [\"wMqvLMZHhHMvwLHjbvcjnnSBnvTQFn\\n\", \"ttgJtRGJQctTZtZT\\n\", \"CrZsJsPPZsGzwwsLwLmpwMDw\"]]"
      ]
     },
     "execution_count": 24,
     "metadata": {},
     "output_type": "execute_result"
    }
   ],
   "source": [
    "groups = lines.each_slice(3).to_a"
   ]
  },
  {
   "cell_type": "code",
   "execution_count": 25,
   "metadata": {},
   "outputs": [
    {
     "data": {
      "text/plain": [
       "{\"a\"=>1, \"b\"=>2, \"c\"=>3, \"d\"=>4, \"e\"=>5, \"f\"=>6, \"g\"=>7, \"h\"=>8, \"i\"=>9, \"j\"=>10, \"k\"=>11, \"l\"=>12, \"m\"=>13, \"n\"=>14, \"o\"=>15, \"p\"=>16, \"q\"=>17, \"r\"=>18, \"s\"=>19, \"t\"=>20, \"u\"=>21, \"v\"=>22, \"w\"=>23, \"x\"=>24, \"y\"=>25, \"z\"=>26, \"A\"=>27, \"B\"=>28, \"C\"=>29, \"D\"=>30, \"E\"=>31, \"F\"=>32, \"G\"=>33, \"H\"=>34, \"I\"=>35, \"J\"=>36, \"K\"=>37, \"L\"=>38, \"M\"=>39, \"N\"=>40, \"O\"=>41, \"P\"=>42, \"Q\"=>43, \"R\"=>44, \"S\"=>45, \"T\"=>46, \"U\"=>47, \"V\"=>48, \"W\"=>49, \"X\"=>50, \"Y\"=>51, \"Z\"=>52}"
      ]
     },
     "execution_count": 25,
     "metadata": {},
     "output_type": "execute_result"
    }
   ],
   "source": [
    "priorities = 1..52\n",
    "items = [*\"a\"..\"z\", *\"A\"..\"Z\"]\n",
    "item_to_priorities = items.zip(priorities).to_h"
   ]
  },
  {
   "cell_type": "code",
   "execution_count": 26,
   "metadata": {},
   "outputs": [
    {
     "data": {
      "text/plain": [
       "[18, 52]"
      ]
     },
     "execution_count": 26,
     "metadata": {},
     "output_type": "execute_result"
    }
   ],
   "source": [
    "priority_each_group = groups.map do |group|\n",
    "    badge = group[0].each_char.find { |char| group[1].include?(char) && group[2].include?(char) }\n",
    "    priority = item_to_priorities[badge]\n",
    "end"
   ]
  },
  {
   "cell_type": "code",
   "execution_count": 27,
   "metadata": {},
   "outputs": [
    {
     "data": {
      "text/plain": [
       "70"
      ]
     },
     "execution_count": 27,
     "metadata": {},
     "output_type": "execute_result"
    }
   ],
   "source": [
    "priority_each_group.sum"
   ]
  }
 ],
 "metadata": {
  "kernelspec": {
   "display_name": "Ruby 3.0.4",
   "language": "ruby",
   "name": "ruby"
  },
  "language_info": {
   "file_extension": ".rb",
   "mimetype": "application/x-ruby",
   "name": "ruby",
   "version": "3.0.4"
  },
  "orig_nbformat": 4,
  "vscode": {
   "interpreter": {
    "hash": "767d51c1340bd893661ea55ea3124f6de3c7a262a8b4abca0554b478b1e2ff90"
   }
  }
 },
 "nbformat": 4,
 "nbformat_minor": 2
}
