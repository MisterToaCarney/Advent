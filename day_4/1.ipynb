{
 "cells": [
  {
   "cell_type": "code",
   "execution_count": 22,
   "metadata": {},
   "outputs": [],
   "source": [
    "file = File.open(\"test.txt\")\n",
    "lines = file.readlines\n",
    "file.close"
   ]
  },
  {
   "cell_type": "code",
   "execution_count": 23,
   "metadata": {},
   "outputs": [
    {
     "data": {
      "text/plain": [
       "[false, false, false, true, true, false]"
      ]
     },
     "execution_count": 23,
     "metadata": {},
     "output_type": "execute_result"
    }
   ],
   "source": [
    "pairs = lines.map do |line|\n",
    "    parsed_line = line.match(/(\\d+)-(\\d+),(\\d+)-(\\d+)/)\n",
    "    parsed_line = parsed_line[1..].each_slice(2)\n",
    "    ranges = parsed_line.map { |range| range[0].to_i..range[1].to_i }\n",
    "    does_overlap = ranges[0].cover?(ranges[1]) || ranges[1].cover?(ranges[0])\n",
    "end"
   ]
  },
  {
   "cell_type": "code",
   "execution_count": 24,
   "metadata": {},
   "outputs": [
    {
     "data": {
      "text/plain": [
       "2"
      ]
     },
     "execution_count": 24,
     "metadata": {},
     "output_type": "execute_result"
    }
   ],
   "source": [
    "pairs.count(true)"
   ]
  }
 ],
 "metadata": {
  "kernelspec": {
   "display_name": "Ruby 3.0.4",
   "language": "ruby",
   "name": "ruby"
  },
  "language_info": {
   "file_extension": ".rb",
   "mimetype": "application/x-ruby",
   "name": "ruby",
   "version": "3.0.4"
  },
  "orig_nbformat": 4
 },
 "nbformat": 4,
 "nbformat_minor": 2
}
