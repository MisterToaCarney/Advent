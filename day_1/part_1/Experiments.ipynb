{
 "cells": [
  {
   "cell_type": "code",
   "execution_count": 65,
   "id": "47c89cfb",
   "metadata": {
    "scrolled": true
   },
   "outputs": [],
   "source": [
    "file = File.open(\"input.txt\")\n",
    "str = file.read\n",
    "file.close"
   ]
  },
  {
   "cell_type": "code",
   "execution_count": 80,
   "id": "0b5bd895",
   "metadata": {
    "scrolled": true
   },
   "outputs": [
    {
     "name": "stdout",
     "output_type": "stream",
     "text": [
      "\n"
     ]
    }
   ],
   "source": [
    "elves = str.split \"\\n\\n\"\n",
    "puts"
   ]
  },
  {
   "cell_type": "code",
   "execution_count": 79,
   "id": "322c5500",
   "metadata": {},
   "outputs": [
    {
     "name": "stdout",
     "output_type": "stream",
     "text": [
      "Largest elf has 69177 calories.\n"
     ]
    }
   ],
   "source": [
    "largest_elf = 0\n",
    "elves.each { |elf|\n",
    "  total_calories = 0\n",
    "  elf.split.each { |food_item_str| total_calories += food_item_str.to_i }\n",
    "  if total_calories > largest_elf then largest_elf = total_calories end\n",
    "}\n",
    " \n",
    "puts \"Largest elf has #{largest_elf} calories.\""
   ]
  }
 ],
 "metadata": {
  "kernelspec": {
   "display_name": "Ruby 3.0.4",
   "language": "ruby",
   "name": "ruby"
  },
  "language_info": {
   "file_extension": ".rb",
   "mimetype": "application/x-ruby",
   "name": "ruby",
   "version": "3.0.4"
  }
 },
 "nbformat": 4,
 "nbformat_minor": 5
}
